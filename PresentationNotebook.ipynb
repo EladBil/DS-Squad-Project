{
 "cells": [
  {
   "cell_type": "markdown",
   "metadata": {},
   "source": [
    "# **Data science workshop project**\n",
    "**Team:** Elad, Tsach, Oz, Eva\n",
    "\n",
    "**Problem:** The predictors of in-hospital mortality for admitted patients remain poorly characterized.\n",
    "\n",
    "**Goal of the project**: We aimed to develop and validate a prediction model for all-cause in-hospital mortality among admitted patients.\n"
   ]
  },
  {
   "cell_type": "markdown",
   "metadata": {},
   "source": [
    "## Introduction: understand and clean the dataset"
   ]
  },
  {
   "cell_type": "code",
   "execution_count": 45,
   "metadata": {},
   "outputs": [],
   "source": [
    "from warnings import simplefilter\n",
    "simplefilter(action='ignore', category=FutureWarning)"
   ]
  },
  {
   "cell_type": "code",
   "execution_count": 46,
   "metadata": {},
   "outputs": [],
   "source": [
    "#data processing\n",
    "import pandas as pd\n",
    "import numpy as np\n",
    "\n",
    "#data visualizations\n",
    "import seaborn as sns\n",
    "import matplotlib.pyplot as plt\n",
    "\n",
    "%matplotlib inline\n",
    "\n",
    "#Machine learning library\n",
    "import sklearn\n",
    "from sklearn.model_selection import train_test_split\n",
    "\n",
    "from Model.ModelModule import DSWorkshopModel  # separate python file which hold data and run models"
   ]
  },
  {
   "cell_type": "code",
   "execution_count": 47,
   "metadata": {},
   "outputs": [],
   "source": [
    "complete_data = pd.read_csv('dataset.csv') #load the dataset"
   ]
  },
  {
   "cell_type": "code",
   "execution_count": 48,
   "metadata": {},
   "outputs": [
    {
     "data": {
      "text/html": [
       "<div>\n",
       "<style scoped>\n",
       "    .dataframe tbody tr th:only-of-type {\n",
       "        vertical-align: middle;\n",
       "    }\n",
       "\n",
       "    .dataframe tbody tr th {\n",
       "        vertical-align: top;\n",
       "    }\n",
       "\n",
       "    .dataframe thead th {\n",
       "        text-align: right;\n",
       "    }\n",
       "</style>\n",
       "<table border=\"1\" class=\"dataframe\">\n",
       "  <thead>\n",
       "    <tr style=\"text-align: right;\">\n",
       "      <th></th>\n",
       "      <th>encounter_id</th>\n",
       "      <th>patient_id</th>\n",
       "      <th>hospital_id</th>\n",
       "      <th>age</th>\n",
       "      <th>bmi</th>\n",
       "      <th>elective_surgery</th>\n",
       "      <th>ethnicity</th>\n",
       "      <th>gender</th>\n",
       "      <th>height</th>\n",
       "      <th>icu_admit_source</th>\n",
       "      <th>...</th>\n",
       "      <th>diabetes_mellitus</th>\n",
       "      <th>hepatic_failure</th>\n",
       "      <th>immunosuppression</th>\n",
       "      <th>leukemia</th>\n",
       "      <th>lymphoma</th>\n",
       "      <th>solid_tumor_with_metastasis</th>\n",
       "      <th>apache_3j_bodysystem</th>\n",
       "      <th>apache_2_bodysystem</th>\n",
       "      <th>Unnamed: 83</th>\n",
       "      <th>hospital_death</th>\n",
       "    </tr>\n",
       "  </thead>\n",
       "  <tbody>\n",
       "    <tr>\n",
       "      <th>0</th>\n",
       "      <td>66154</td>\n",
       "      <td>25312</td>\n",
       "      <td>118</td>\n",
       "      <td>68.0</td>\n",
       "      <td>22.73</td>\n",
       "      <td>0</td>\n",
       "      <td>Caucasian</td>\n",
       "      <td>M</td>\n",
       "      <td>180.3</td>\n",
       "      <td>Floor</td>\n",
       "      <td>...</td>\n",
       "      <td>1.0</td>\n",
       "      <td>0.0</td>\n",
       "      <td>0.0</td>\n",
       "      <td>0.0</td>\n",
       "      <td>0.0</td>\n",
       "      <td>0.0</td>\n",
       "      <td>Sepsis</td>\n",
       "      <td>Cardiovascular</td>\n",
       "      <td>NaN</td>\n",
       "      <td>0</td>\n",
       "    </tr>\n",
       "    <tr>\n",
       "      <th>1</th>\n",
       "      <td>114252</td>\n",
       "      <td>59342</td>\n",
       "      <td>81</td>\n",
       "      <td>77.0</td>\n",
       "      <td>27.42</td>\n",
       "      <td>0</td>\n",
       "      <td>Caucasian</td>\n",
       "      <td>F</td>\n",
       "      <td>160.0</td>\n",
       "      <td>Floor</td>\n",
       "      <td>...</td>\n",
       "      <td>1.0</td>\n",
       "      <td>0.0</td>\n",
       "      <td>0.0</td>\n",
       "      <td>0.0</td>\n",
       "      <td>0.0</td>\n",
       "      <td>0.0</td>\n",
       "      <td>Respiratory</td>\n",
       "      <td>Respiratory</td>\n",
       "      <td>NaN</td>\n",
       "      <td>0</td>\n",
       "    </tr>\n",
       "    <tr>\n",
       "      <th>2</th>\n",
       "      <td>119783</td>\n",
       "      <td>50777</td>\n",
       "      <td>118</td>\n",
       "      <td>25.0</td>\n",
       "      <td>31.95</td>\n",
       "      <td>0</td>\n",
       "      <td>Caucasian</td>\n",
       "      <td>F</td>\n",
       "      <td>172.7</td>\n",
       "      <td>Accident &amp; Emergency</td>\n",
       "      <td>...</td>\n",
       "      <td>0.0</td>\n",
       "      <td>0.0</td>\n",
       "      <td>0.0</td>\n",
       "      <td>0.0</td>\n",
       "      <td>0.0</td>\n",
       "      <td>0.0</td>\n",
       "      <td>Metabolic</td>\n",
       "      <td>Metabolic</td>\n",
       "      <td>NaN</td>\n",
       "      <td>0</td>\n",
       "    </tr>\n",
       "    <tr>\n",
       "      <th>3</th>\n",
       "      <td>79267</td>\n",
       "      <td>46918</td>\n",
       "      <td>118</td>\n",
       "      <td>81.0</td>\n",
       "      <td>22.64</td>\n",
       "      <td>1</td>\n",
       "      <td>Caucasian</td>\n",
       "      <td>F</td>\n",
       "      <td>165.1</td>\n",
       "      <td>Operating Room / Recovery</td>\n",
       "      <td>...</td>\n",
       "      <td>0.0</td>\n",
       "      <td>0.0</td>\n",
       "      <td>0.0</td>\n",
       "      <td>0.0</td>\n",
       "      <td>0.0</td>\n",
       "      <td>0.0</td>\n",
       "      <td>Cardiovascular</td>\n",
       "      <td>Cardiovascular</td>\n",
       "      <td>NaN</td>\n",
       "      <td>0</td>\n",
       "    </tr>\n",
       "    <tr>\n",
       "      <th>4</th>\n",
       "      <td>92056</td>\n",
       "      <td>34377</td>\n",
       "      <td>33</td>\n",
       "      <td>19.0</td>\n",
       "      <td>NaN</td>\n",
       "      <td>0</td>\n",
       "      <td>Caucasian</td>\n",
       "      <td>M</td>\n",
       "      <td>188.0</td>\n",
       "      <td>Accident &amp; Emergency</td>\n",
       "      <td>...</td>\n",
       "      <td>0.0</td>\n",
       "      <td>0.0</td>\n",
       "      <td>0.0</td>\n",
       "      <td>0.0</td>\n",
       "      <td>0.0</td>\n",
       "      <td>0.0</td>\n",
       "      <td>Trauma</td>\n",
       "      <td>Trauma</td>\n",
       "      <td>NaN</td>\n",
       "      <td>0</td>\n",
       "    </tr>\n",
       "  </tbody>\n",
       "</table>\n",
       "<p>5 rows × 85 columns</p>\n",
       "</div>"
      ],
      "text/plain": [
       "   encounter_id  patient_id  hospital_id   age    bmi  elective_surgery  \\\n",
       "0         66154       25312          118  68.0  22.73                 0   \n",
       "1        114252       59342           81  77.0  27.42                 0   \n",
       "2        119783       50777          118  25.0  31.95                 0   \n",
       "3         79267       46918          118  81.0  22.64                 1   \n",
       "4         92056       34377           33  19.0    NaN                 0   \n",
       "\n",
       "   ethnicity gender  height           icu_admit_source  ...  \\\n",
       "0  Caucasian      M   180.3                      Floor  ...   \n",
       "1  Caucasian      F   160.0                      Floor  ...   \n",
       "2  Caucasian      F   172.7       Accident & Emergency  ...   \n",
       "3  Caucasian      F   165.1  Operating Room / Recovery  ...   \n",
       "4  Caucasian      M   188.0       Accident & Emergency  ...   \n",
       "\n",
       "   diabetes_mellitus hepatic_failure immunosuppression  leukemia  lymphoma  \\\n",
       "0                1.0             0.0               0.0       0.0       0.0   \n",
       "1                1.0             0.0               0.0       0.0       0.0   \n",
       "2                0.0             0.0               0.0       0.0       0.0   \n",
       "3                0.0             0.0               0.0       0.0       0.0   \n",
       "4                0.0             0.0               0.0       0.0       0.0   \n",
       "\n",
       "   solid_tumor_with_metastasis  apache_3j_bodysystem  apache_2_bodysystem  \\\n",
       "0                          0.0                Sepsis       Cardiovascular   \n",
       "1                          0.0           Respiratory          Respiratory   \n",
       "2                          0.0             Metabolic            Metabolic   \n",
       "3                          0.0        Cardiovascular       Cardiovascular   \n",
       "4                          0.0                Trauma               Trauma   \n",
       "\n",
       "   Unnamed: 83  hospital_death  \n",
       "0          NaN               0  \n",
       "1          NaN               0  \n",
       "2          NaN               0  \n",
       "3          NaN               0  \n",
       "4          NaN               0  \n",
       "\n",
       "[5 rows x 85 columns]"
      ]
     },
     "execution_count": 48,
     "metadata": {},
     "output_type": "execute_result"
    }
   ],
   "source": [
    "complete_data.head() #beginning of the dataset"
   ]
  },
  {
   "cell_type": "code",
   "execution_count": 49,
   "metadata": {},
   "outputs": [
    {
     "data": {
      "text/plain": [
       "(91713, 85)"
      ]
     },
     "execution_count": 49,
     "metadata": {},
     "output_type": "execute_result"
    }
   ],
   "source": [
    "complete_data.shape   #dataset sizes: 85 columns and 91713 rows/patients in the original dataset"
   ]
  },
  {
   "cell_type": "code",
   "execution_count": 50,
   "metadata": {},
   "outputs": [
    {
     "name": "stdout",
     "output_type": "stream",
     "text": [
      "<class 'pandas.core.frame.DataFrame'>\n",
      "RangeIndex: 91713 entries, 0 to 91712\n",
      "Data columns (total 85 columns):\n",
      " #   Column                         Non-Null Count  Dtype  \n",
      "---  ------                         --------------  -----  \n",
      " 0   encounter_id                   91713 non-null  int64  \n",
      " 1   patient_id                     91713 non-null  int64  \n",
      " 2   hospital_id                    91713 non-null  int64  \n",
      " 3   age                            87485 non-null  float64\n",
      " 4   bmi                            88284 non-null  float64\n",
      " 5   elective_surgery               91713 non-null  int64  \n",
      " 6   ethnicity                      90318 non-null  object \n",
      " 7   gender                         91688 non-null  object \n",
      " 8   height                         90379 non-null  float64\n",
      " 9   icu_admit_source               91601 non-null  object \n",
      " 10  icu_id                         91713 non-null  int64  \n",
      " 11  icu_stay_type                  91713 non-null  object \n",
      " 12  icu_type                       91713 non-null  object \n",
      " 13  pre_icu_los_days               91713 non-null  float64\n",
      " 14  weight                         88993 non-null  float64\n",
      " 15  apache_2_diagnosis             90051 non-null  float64\n",
      " 16  apache_3j_diagnosis            90612 non-null  float64\n",
      " 17  apache_post_operative          91713 non-null  int64  \n",
      " 18  arf_apache                     90998 non-null  float64\n",
      " 19  gcs_eyes_apache                89812 non-null  float64\n",
      " 20  gcs_motor_apache               89812 non-null  float64\n",
      " 21  gcs_unable_apache              90676 non-null  float64\n",
      " 22  gcs_verbal_apache              89812 non-null  float64\n",
      " 23  heart_rate_apache              90835 non-null  float64\n",
      " 24  intubated_apache               90998 non-null  float64\n",
      " 25  map_apache                     90719 non-null  float64\n",
      " 26  resprate_apache                90479 non-null  float64\n",
      " 27  temp_apache                    87605 non-null  float64\n",
      " 28  ventilated_apache              90998 non-null  float64\n",
      " 29  d1_diasbp_max                  91548 non-null  float64\n",
      " 30  d1_diasbp_min                  91548 non-null  float64\n",
      " 31  d1_diasbp_noninvasive_max      90673 non-null  float64\n",
      " 32  d1_diasbp_noninvasive_min      90673 non-null  float64\n",
      " 33  d1_heartrate_max               91568 non-null  float64\n",
      " 34  d1_heartrate_min               91568 non-null  float64\n",
      " 35  d1_mbp_max                     91493 non-null  float64\n",
      " 36  d1_mbp_min                     91493 non-null  float64\n",
      " 37  d1_mbp_noninvasive_max         90234 non-null  float64\n",
      " 38  d1_mbp_noninvasive_min         90234 non-null  float64\n",
      " 39  d1_resprate_max                91328 non-null  float64\n",
      " 40  d1_resprate_min                91328 non-null  float64\n",
      " 41  d1_spo2_max                    91380 non-null  float64\n",
      " 42  d1_spo2_min                    91380 non-null  float64\n",
      " 43  d1_sysbp_max                   91554 non-null  float64\n",
      " 44  d1_sysbp_min                   91554 non-null  float64\n",
      " 45  d1_sysbp_noninvasive_max       90686 non-null  float64\n",
      " 46  d1_sysbp_noninvasive_min       90686 non-null  float64\n",
      " 47  d1_temp_max                    89389 non-null  float64\n",
      " 48  d1_temp_min                    89389 non-null  float64\n",
      " 49  h1_diasbp_max                  88094 non-null  float64\n",
      " 50  h1_diasbp_min                  88094 non-null  float64\n",
      " 51  h1_diasbp_noninvasive_max      84363 non-null  float64\n",
      " 52  h1_diasbp_noninvasive_min      84363 non-null  float64\n",
      " 53  h1_heartrate_max               88923 non-null  float64\n",
      " 54  h1_heartrate_min               88923 non-null  float64\n",
      " 55  h1_mbp_max                     87074 non-null  float64\n",
      " 56  h1_mbp_min                     87074 non-null  float64\n",
      " 57  h1_mbp_noninvasive_max         82629 non-null  float64\n",
      " 58  h1_mbp_noninvasive_min         82629 non-null  float64\n",
      " 59  h1_resprate_max                87356 non-null  float64\n",
      " 60  h1_resprate_min                87356 non-null  float64\n",
      " 61  h1_spo2_max                    87528 non-null  float64\n",
      " 62  h1_spo2_min                    87528 non-null  float64\n",
      " 63  h1_sysbp_max                   88102 non-null  float64\n",
      " 64  h1_sysbp_min                   88102 non-null  float64\n",
      " 65  h1_sysbp_noninvasive_max       84372 non-null  float64\n",
      " 66  h1_sysbp_noninvasive_min       84372 non-null  float64\n",
      " 67  d1_glucose_max                 85906 non-null  float64\n",
      " 68  d1_glucose_min                 85906 non-null  float64\n",
      " 69  d1_potassium_max               82128 non-null  float64\n",
      " 70  d1_potassium_min               82128 non-null  float64\n",
      " 71  apache_4a_hospital_death_prob  83766 non-null  float64\n",
      " 72  apache_4a_icu_death_prob       83766 non-null  float64\n",
      " 73  aids                           90998 non-null  float64\n",
      " 74  cirrhosis                      90998 non-null  float64\n",
      " 75  diabetes_mellitus              90998 non-null  float64\n",
      " 76  hepatic_failure                90998 non-null  float64\n",
      " 77  immunosuppression              90998 non-null  float64\n",
      " 78  leukemia                       90998 non-null  float64\n",
      " 79  lymphoma                       90998 non-null  float64\n",
      " 80  solid_tumor_with_metastasis    90998 non-null  float64\n",
      " 81  apache_3j_bodysystem           90051 non-null  object \n",
      " 82  apache_2_bodysystem            90051 non-null  object \n",
      " 83  Unnamed: 83                    0 non-null      float64\n",
      " 84  hospital_death                 91713 non-null  int64  \n",
      "dtypes: float64(71), int64(7), object(7)\n",
      "memory usage: 59.5+ MB\n"
     ]
    }
   ],
   "source": [
    "#column / features and data types\n",
    "complete_data.info(verbose=True)"
   ]
  },
  {
   "cell_type": "code",
   "execution_count": 51,
   "metadata": {},
   "outputs": [
    {
     "data": {
      "text/plain": [
       "Unnamed: 83               91713\n",
       "d1_potassium_max           9585\n",
       "d1_potassium_min           9585\n",
       "h1_mbp_noninvasive_min     9084\n",
       "h1_mbp_noninvasive_max     9084\n",
       "                          ...  \n",
       "icu_stay_type                 0\n",
       "icu_id                        0\n",
       "elective_surgery              0\n",
       "hospital_id                   0\n",
       "hospital_death                0\n",
       "Length: 85, dtype: int64"
      ]
     },
     "execution_count": 51,
     "metadata": {},
     "output_type": "execute_result"
    }
   ],
   "source": [
    "complete_data.isnull().sum(axis=0).sort_values(ascending=False)"
   ]
  },
  {
   "cell_type": "code",
   "execution_count": 52,
   "metadata": {},
   "outputs": [],
   "source": [
    "class_prediction = \"hospital_death\" #label"
   ]
  },
  {
   "cell_type": "code",
   "execution_count": 53,
   "metadata": {},
   "outputs": [
    {
     "data": {
      "text/plain": [
       "([<matplotlib.patches.Wedge at 0x24326ea83a0>,\n",
       "  <matplotlib.patches.Wedge at 0x24326ea8a90>],\n",
       " [Text(-1.0598172020063896, 0.294597179774939, '0'),\n",
       "  Text(1.0598172295885635, -0.2945970805476902, '1')],\n",
       " [Text(-0.5780821101853033, 0.16068937078633036, '91.4%'),\n",
       "  Text(0.5780821252301255, -0.16068931666237643, '8.6%')])"
      ]
     },
     "execution_count": 53,
     "metadata": {},
     "output_type": "execute_result"
    },
    {
     "data": {
      "image/png": "[encoded data removed]",
      "text/plain": [
       "<Figure size 432x288 with 1 Axes>"
      ]
     },
     "metadata": {},
     "output_type": "display_data"
    }
   ],
   "source": [
    "unique_labels = np.unique(complete_data[class_prediction])\n",
    "plt.pie(np.array([len(complete_data[complete_data[class_prediction]==label]) for label in unique_labels ]), labels = list(unique_labels), autopct='%1.1f%%')"
   ]
  },
  {
   "cell_type": "markdown",
   "metadata": {},
   "source": [
    "The distribution of classes is realy different so it will be a challenge for the model to  predict class 1 whih is \"Living\""
   ]
  },
  {
   "cell_type": "markdown",
   "metadata": {},
   "source": [
    "The distribution of the two classes is not balanced at all : it will be challenging because most of the patients in the dataset haven t hospital mortality."
   ]
  },
  {
   "cell_type": "code",
   "execution_count": 54,
   "metadata": {},
   "outputs": [],
   "source": [
    "numerical_features = [\"age\", \"bmi\",\"height\", \"weight\", \n",
    "                      \"pre_icu_los_days\", \"gcs_eyes_apache\",\"apache_2_diagnosis\",\n",
    "                      \"gcs_motor_apache\", \"gcs_verbal_apache\", \"heart_rate_apache\",\n",
    "                     \"map_apache\", \"resprate_apache\", \"temp_apache\", \"d1_diasbp_max\",\n",
    "                      \"d1_diasbp_min\",\"d1_diasbp_noninvasive_max\", \"d1_diasbp_noninvasive_min\",\n",
    "                      \"d1_heartrate_max\", \"d1_heartrate_min\", \"d1_mbp_max\", \"d1_mbp_min\", \n",
    "                      \"d1_mbp_noninvasive_max\", \"d1_mbp_noninvasive_min\", \"d1_resprate_max\", \"d1_resprate_min\",\n",
    "                      \"d1_spo2_max\", \"d1_spo2_min\", \"d1_sysbp_max\", \"d1_sysbp_min\",\n",
    "                      \"d1_sysbp_noninvasive_max\", \"d1_sysbp_noninvasive_min\", \"d1_temp_max\", \"d1_temp_min\",\n",
    "                      \"h1_diasbp_max\", \"h1_diasbp_min\", \"h1_diasbp_noninvasive_max\", \"h1_diasbp_noninvasive_min\",\n",
    "                      \"h1_heartrate_max\", \"h1_heartrate_min\", \"h1_mbp_max\", \"h1_mbp_min\",\n",
    "                      \"h1_mbp_noninvasive_max\", \"h1_mbp_noninvasive_min\", \"h1_resprate_max\", \"h1_resprate_min\",\n",
    "                      \"h1_spo2_max\", \"h1_spo2_min\", \"h1_sysbp_max\", \"h1_sysbp_min\",\n",
    "                      \"h1_sysbp_noninvasive_max\", \"h1_sysbp_noninvasive_min\", \"d1_glucose_max\", \"d1_glucose_min\",\n",
    "                      \"d1_potassium_max\", \"d1_potassium_min\", \"apache_4a_hospital_death_prob\", \"apache_4a_icu_death_prob\",\n",
    "                      \"apache_3j_diagnosis\"]\n",
    "\n",
    "categorial_features = [\"hospital_id\", \"ethnicity\", \"gender\", \"icu_admit_source\", \"apache_3j_bodysystem\", \"apache_2_bodysystem\", \"icu_stay_type\", \"icu_type\"]\n",
    "\n",
    "binary_features = [\"arf_apache\", \"gcs_unable_apache\", \"intubated_apache\", \n",
    "                   \"ventilated_apache\", \"elective_surgery\", \"apache_post_operative\",\n",
    "                   \"aids\", \"cirrhosis\", \"diabetes_mellitus\", \"hepatic_failure\", \"immunosuppression\",\n",
    "                   \"leukemia\", \"lymphoma\", \"solid_tumor_with_metastasis\"]"
   ]
  },
  {
   "cell_type": "markdown",
   "metadata": {},
   "source": [
    "## Influence of the age of the patient on the hospital death"
   ]
  },
  {
   "cell_type": "code",
   "execution_count": 55,
   "metadata": {},
   "outputs": [
    {
     "data": {
      "text/plain": [
       "<matplotlib.legend.Legend at 0x2430d82ca90>"
      ]
     },
     "execution_count": 55,
     "metadata": {},
     "output_type": "execute_result"
    },
    {
     "data": {
      "image/png": "[encoded data removed]",
      "text/plain": [
       "<Figure size 1080x720 with 1 Axes>"
      ]
     },
     "metadata": {
      "needs_background": "light"
     },
     "output_type": "display_data"
    }
   ],
   "source": [
    "dead_patient = complete_data[complete_data[\"hospital_death\"] == 1]\n",
    "living_patient =  complete_data[complete_data[\"hospital_death\"] == 0]\n",
    "#first we create the figure using Matplotlib\n",
    "fig,ax=plt.subplots(figsize=(15,10))\n",
    "#\"age\"\n",
    "#create two histograms using Seaborn:\n",
    "sns.distplot(dead_patient.age, bins = 25, kde = True, label = \"dead\",ax=ax)\n",
    "sns.distplot(living_patient.age, bins = 25, kde = True, label = \"living\",ax=ax)\n",
    "\n",
    "#Don't forget to make titles for the figure and axes\n",
    "plt.title('Hospital death Histogram of Age')\n",
    "plt.xlabel('Age')\n",
    "plt.ylabel('Count')\n",
    "plt.legend(loc=\"upper right\")"
   ]
  },
  {
   "cell_type": "markdown",
   "metadata": {},
   "source": [
    "## Methods for dataset"
   ]
  },
  {
   "cell_type": "code",
   "execution_count": 56,
   "metadata": {},
   "outputs": [],
   "source": [
    "def getBasicDataset():\n",
    "    complete_data = pd.read_csv('dataset.csv') #load the dataset\n",
    "    complete_data.drop(complete_data.columns[[0,1,83]], axis=1, inplace=True) #delete feature 83\n",
    "    complete_data = pd.get_dummies(complete_data,columns=categorial_features) #one hot encoding\n",
    "    return complete_data"
   ]
  },
  {
   "cell_type": "code",
   "execution_count": 57,
   "metadata": {},
   "outputs": [],
   "source": [
    "# Filling missing NUMERICAL values.\n",
    "def fill_missing_num_values_with_mean(complete_data):\n",
    "    for feature in numerical_features:\n",
    "        if feature in complete_data.columns:\n",
    "            mean_value = complete_data[feature].mean()\n",
    "            complete_data[feature].fillna(value=mean_value, inplace=True)\n",
    "    return complete_data\n",
    "\n",
    "# features_with_missing_values = complete_data.columns[complete_data.isnull().any()]\n",
    "# for f in features_with_missing_values:\n",
    "#     name = \"missing \" + f\n",
    "#     if f in numerical_features:\n",
    "#         complete_data[name] = (complete_data[f].isnull()).astype(int)"
   ]
  },
  {
   "cell_type": "code",
   "execution_count": 58,
   "metadata": {},
   "outputs": [],
   "source": [
    "def fill_missing_values_binary(df): # fill with 0 in binary feature when data is missing\n",
    "    for f in binary_features:\n",
    "        if f in df.columns:\n",
    "            df[f] = df[f].fillna(0)\n",
    "    return df"
   ]
  },
  {
   "cell_type": "code",
   "execution_count": 59,
   "metadata": {},
   "outputs": [],
   "source": [
    "def runModel(df):\n",
    "    model = DSWorkshopModel(df)\n",
    "    train_data = df.drop('hospital_death', axis=1)\n",
    "    true_values = df.hospital_death\n",
    "    x_train, x_test, y_train, y_test = train_test_split(train_data, true_values, test_size=0.2, stratify=true_values, shuffle=True)\n",
    "    model.set_split(x_train=x_train, y_train=y_train, x_test=x_test, y_test=y_test)\n",
    "    model.train()\n",
    "    return model"
   ]
  },
  {
   "cell_type": "markdown",
   "metadata": {},
   "source": [
    "## 1. Run Model on original dataset \n",
    "(We filled all missing values which are numerical with mean and add column which tell when data is missing), we also apply one hot encoding for original categorical features. "
   ]
  },
  {
   "cell_type": "code",
   "execution_count": 60,
   "metadata": {},
   "outputs": [],
   "source": [
    "df1 = getBasicDataset()\n",
    "df1 = fill_missing_num_values_with_mean(df1)\n",
    "df1 = fill_missing_values_binary(df1)"
   ]
  },
  {
   "cell_type": "code",
   "execution_count": 61,
   "metadata": {},
   "outputs": [
    {
     "name": "stdout",
     "output_type": "stream",
     "text": [
      "Data Shape: (91713, 266)\n",
      "Data preview:\n"
     ]
    },
    {
     "data": {
      "text/html": [
       "<div>\n",
       "<style scoped>\n",
       "    .dataframe tbody tr th:only-of-type {\n",
       "        vertical-align: middle;\n",
       "    }\n",
       "\n",
       "    .dataframe tbody tr th {\n",
       "        vertical-align: top;\n",
       "    }\n",
       "\n",
       "    .dataframe thead th {\n",
       "        text-align: right;\n",
       "    }\n",
       "</style>\n",
       "<table border=\"1\" class=\"dataframe\">\n",
       "  <thead>\n",
       "    <tr style=\"text-align: right;\">\n",
       "      <th></th>\n",
       "      <th>age</th>\n",
       "      <th>bmi</th>\n",
       "      <th>elective_surgery</th>\n",
       "      <th>height</th>\n",
       "      <th>icu_id</th>\n",
       "      <th>pre_icu_los_days</th>\n",
       "      <th>weight</th>\n",
       "      <th>apache_2_diagnosis</th>\n",
       "      <th>apache_3j_diagnosis</th>\n",
       "      <th>apache_post_operative</th>\n",
       "      <th>...</th>\n",
       "      <th>icu_stay_type_readmit</th>\n",
       "      <th>icu_stay_type_transfer</th>\n",
       "      <th>icu_type_CCU-CTICU</th>\n",
       "      <th>icu_type_CSICU</th>\n",
       "      <th>icu_type_CTICU</th>\n",
       "      <th>icu_type_Cardiac ICU</th>\n",
       "      <th>icu_type_MICU</th>\n",
       "      <th>icu_type_Med-Surg ICU</th>\n",
       "      <th>icu_type_Neuro ICU</th>\n",
       "      <th>icu_type_SICU</th>\n",
       "    </tr>\n",
       "  </thead>\n",
       "  <tbody>\n",
       "    <tr>\n",
       "      <th>0</th>\n",
       "      <td>68.0</td>\n",
       "      <td>22.730000</td>\n",
       "      <td>0</td>\n",
       "      <td>180.3</td>\n",
       "      <td>92</td>\n",
       "      <td>0.541667</td>\n",
       "      <td>73.90000</td>\n",
       "      <td>113.0</td>\n",
       "      <td>502.01</td>\n",
       "      <td>0</td>\n",
       "      <td>...</td>\n",
       "      <td>0</td>\n",
       "      <td>0</td>\n",
       "      <td>0</td>\n",
       "      <td>0</td>\n",
       "      <td>1</td>\n",
       "      <td>0</td>\n",
       "      <td>0</td>\n",
       "      <td>0</td>\n",
       "      <td>0</td>\n",
       "      <td>0</td>\n",
       "    </tr>\n",
       "    <tr>\n",
       "      <th>1</th>\n",
       "      <td>77.0</td>\n",
       "      <td>27.420000</td>\n",
       "      <td>0</td>\n",
       "      <td>160.0</td>\n",
       "      <td>90</td>\n",
       "      <td>0.927778</td>\n",
       "      <td>70.20000</td>\n",
       "      <td>108.0</td>\n",
       "      <td>203.01</td>\n",
       "      <td>0</td>\n",
       "      <td>...</td>\n",
       "      <td>0</td>\n",
       "      <td>0</td>\n",
       "      <td>0</td>\n",
       "      <td>0</td>\n",
       "      <td>0</td>\n",
       "      <td>0</td>\n",
       "      <td>0</td>\n",
       "      <td>1</td>\n",
       "      <td>0</td>\n",
       "      <td>0</td>\n",
       "    </tr>\n",
       "    <tr>\n",
       "      <th>2</th>\n",
       "      <td>25.0</td>\n",
       "      <td>31.950000</td>\n",
       "      <td>0</td>\n",
       "      <td>172.7</td>\n",
       "      <td>93</td>\n",
       "      <td>0.000694</td>\n",
       "      <td>95.30000</td>\n",
       "      <td>122.0</td>\n",
       "      <td>703.03</td>\n",
       "      <td>0</td>\n",
       "      <td>...</td>\n",
       "      <td>0</td>\n",
       "      <td>0</td>\n",
       "      <td>0</td>\n",
       "      <td>0</td>\n",
       "      <td>0</td>\n",
       "      <td>0</td>\n",
       "      <td>0</td>\n",
       "      <td>1</td>\n",
       "      <td>0</td>\n",
       "      <td>0</td>\n",
       "    </tr>\n",
       "    <tr>\n",
       "      <th>3</th>\n",
       "      <td>81.0</td>\n",
       "      <td>22.640000</td>\n",
       "      <td>1</td>\n",
       "      <td>165.1</td>\n",
       "      <td>92</td>\n",
       "      <td>0.000694</td>\n",
       "      <td>61.70000</td>\n",
       "      <td>203.0</td>\n",
       "      <td>1206.03</td>\n",
       "      <td>1</td>\n",
       "      <td>...</td>\n",
       "      <td>0</td>\n",
       "      <td>0</td>\n",
       "      <td>0</td>\n",
       "      <td>0</td>\n",
       "      <td>1</td>\n",
       "      <td>0</td>\n",
       "      <td>0</td>\n",
       "      <td>0</td>\n",
       "      <td>0</td>\n",
       "      <td>0</td>\n",
       "    </tr>\n",
       "    <tr>\n",
       "      <th>4</th>\n",
       "      <td>19.0</td>\n",
       "      <td>29.185818</td>\n",
       "      <td>0</td>\n",
       "      <td>188.0</td>\n",
       "      <td>91</td>\n",
       "      <td>0.073611</td>\n",
       "      <td>84.02834</td>\n",
       "      <td>119.0</td>\n",
       "      <td>601.01</td>\n",
       "      <td>0</td>\n",
       "      <td>...</td>\n",
       "      <td>0</td>\n",
       "      <td>0</td>\n",
       "      <td>0</td>\n",
       "      <td>0</td>\n",
       "      <td>0</td>\n",
       "      <td>0</td>\n",
       "      <td>0</td>\n",
       "      <td>1</td>\n",
       "      <td>0</td>\n",
       "      <td>0</td>\n",
       "    </tr>\n",
       "  </tbody>\n",
       "</table>\n",
       "<p>5 rows × 266 columns</p>\n",
       "</div>"
      ],
      "text/plain": [
       "    age        bmi  elective_surgery  height  icu_id  pre_icu_los_days  \\\n",
       "0  68.0  22.730000                 0   180.3      92          0.541667   \n",
       "1  77.0  27.420000                 0   160.0      90          0.927778   \n",
       "2  25.0  31.950000                 0   172.7      93          0.000694   \n",
       "3  81.0  22.640000                 1   165.1      92          0.000694   \n",
       "4  19.0  29.185818                 0   188.0      91          0.073611   \n",
       "\n",
       "     weight  apache_2_diagnosis  apache_3j_diagnosis  apache_post_operative  \\\n",
       "0  73.90000               113.0               502.01                      0   \n",
       "1  70.20000               108.0               203.01                      0   \n",
       "2  95.30000               122.0               703.03                      0   \n",
       "3  61.70000               203.0              1206.03                      1   \n",
       "4  84.02834               119.0               601.01                      0   \n",
       "\n",
       "   ...  icu_stay_type_readmit  icu_stay_type_transfer  icu_type_CCU-CTICU  \\\n",
       "0  ...                      0                       0                   0   \n",
       "1  ...                      0                       0                   0   \n",
       "2  ...                      0                       0                   0   \n",
       "3  ...                      0                       0                   0   \n",
       "4  ...                      0                       0                   0   \n",
       "\n",
       "   icu_type_CSICU  icu_type_CTICU  icu_type_Cardiac ICU  icu_type_MICU  \\\n",
       "0               0               1                     0              0   \n",
       "1               0               0                     0              0   \n",
       "2               0               0                     0              0   \n",
       "3               0               1                     0              0   \n",
       "4               0               0                     0              0   \n",
       "\n",
       "   icu_type_Med-Surg ICU  icu_type_Neuro ICU  icu_type_SICU  \n",
       "0                      0                   0              0  \n",
       "1                      1                   0              0  \n",
       "2                      1                   0              0  \n",
       "3                      0                   0              0  \n",
       "4                      1                   0              0  \n",
       "\n",
       "[5 rows x 266 columns]"
      ]
     },
     "execution_count": 61,
     "metadata": {},
     "output_type": "execute_result"
    }
   ],
   "source": [
    "model = DSWorkshopModel(df1)\n",
    "model.print_details()"
   ]
  },
  {
   "cell_type": "code",
   "execution_count": 62,
   "metadata": {},
   "outputs": [],
   "source": [
    "# Preparing the data\n",
    "train_data = df1.drop('hospital_death', axis=1)\n",
    "true_values = df1.hospital_death\n",
    "x_train, x_test, y_train, y_test = train_test_split(train_data, true_values, test_size=0.2, stratify=true_values, shuffle=True)"
   ]
  },
  {
   "cell_type": "code",
   "execution_count": 63,
   "metadata": {},
   "outputs": [],
   "source": [
    "model.set_split(x_train=x_train, y_train=y_train, x_test=x_test, y_test=y_test)"
   ]
  },
  {
   "cell_type": "code",
   "execution_count": 64,
   "metadata": {},
   "outputs": [
    {
     "name": "stderr",
     "output_type": "stream",
     "text": [
      "C:\\Users\\eva\\anaconda3\\lib\\site-packages\\sklearn\\linear_model\\_logistic.py:814: ConvergenceWarning: lbfgs failed to converge (status=1):\n",
      "STOP: TOTAL NO. of ITERATIONS REACHED LIMIT.\n",
      "\n",
      "Increase the number of iterations (max_iter) or scale the data as shown in:\n",
      "    https://scikit-learn.org/stable/modules/preprocessing.html\n",
      "Please also refer to the documentation for alternative solver options:\n",
      "    https://scikit-learn.org/stable/modules/linear_model.html#logistic-regression\n",
      "  n_iter_i = _check_optimize_result(\n"
     ]
    }
   ],
   "source": [
    "model.train()"
   ]
  },
  {
   "cell_type": "code",
   "execution_count": 65,
   "metadata": {},
   "outputs": [],
   "source": [
    "models_predictions, pred_results = model.test()"
   ]
  },
  {
   "cell_type": "code",
   "execution_count": 66,
   "metadata": {},
   "outputs": [
    {
     "name": "stdout",
     "output_type": "stream",
     "text": [
      "         Method  precision_score  recall_score  f1_score  accuracy_score  \\\n",
      "0  RandomForest         0.746964      0.233102  0.355320        0.927002   \n",
      "1    ExtraTrees         0.761194      0.193304  0.308312        0.925149   \n",
      "2       Votingr         0.817680      0.093493  0.167800        0.919969   \n",
      "\n",
      "    time   \n",
      "0  54.22s  \n",
      "1  52.88s  \n",
      "2  74.48s  \n"
     ]
    }
   ],
   "source": [
    "print(pred_results)"
   ]
  },
  {
   "cell_type": "markdown",
   "metadata": {},
   "source": [
    "We can see that the best model with \"basic work on dataset\" is Voting classifier with precision of 82% and 92 % accuracy.\n",
    "Voting classifier:\"A Voting Classifier is a machine learning model that trains on an ensemble of numerous models and predicts an output (class) based on their highest probability of chosen class as the output.\"\n",
    "In our case this model try those models: LogisticRegression, RandomForest and KNN"
   ]
  },
  {
   "cell_type": "markdown",
   "metadata": {},
   "source": [
    "Let s try to check results of the models"
   ]
  },
  {
   "cell_type": "code",
   "execution_count": 67,
   "metadata": {},
   "outputs": [],
   "source": [
    "from sklearn.metrics import confusion_matrix\n",
    "def conf_matrix(cf_matrix):\n",
    "    group_names = ['True Neg','False Pos','False Neg','True Pos']\n",
    "    group_counts = [\"{0:0.0f}\".format(value) for value in\n",
    "                    cf_matrix.flatten()]\n",
    "\n",
    "    group_percentages = [\"{0:.2%}\".format(value) for value in\n",
    "                         cf_matrix.flatten()/np.sum(cf_matrix)]\n",
    "\n",
    "    labels = [f\"{v1}\\n{v2}\\n{v3}\" for v1, v2, v3 in\n",
    "              zip(group_names,group_counts,group_percentages)]\n",
    "\n",
    "    labels = np.asarray(labels).reshape(2,2)\n",
    "\n",
    "    ax = sns.heatmap(cf_matrix, annot=labels, fmt='', cmap='Blues')\n",
    "\n",
    "    ax.set_title('Confusion Matrix\\n');\n",
    "    ax.set_xlabel('\\nPredicted Values')\n",
    "    ax.set_ylabel('Actual Values ');\n",
    "\n",
    "    ## Ticket labels - List must be in alphabetical order\n",
    "    ax.xaxis.set_ticklabels(['False','True'])\n",
    "    ax.yaxis.set_ticklabels(['False','True'])\n",
    "\n",
    "    ## Display the visualization of the Confusion Matrix.\n",
    "    plt.show()"
   ]
  },
  {
   "cell_type": "code",
   "execution_count": 68,
   "metadata": {},
   "outputs": [
    {
     "data": {
      "image/png": "[encoded data removed]",
      "text/plain": [
       "<Figure size 432x288 with 2 Axes>"
      ]
     },
     "metadata": {
      "needs_background": "light"
     },
     "output_type": "display_data"
    }
   ],
   "source": [
    "cf_matrix = confusion_matrix(y_test.to_numpy(), models_predictions[-1])\n",
    "conf_matrix(cf_matrix)"
   ]
  },
  {
   "cell_type": "markdown",
   "metadata": {},
   "source": [
    "A true positive is an outcome where the model correctly predicts the positive class. Similarly, a true negative is an outcome where the model correctly predicts the negative class.\n",
    "\n",
    "A false positive is an outcome where the model incorrectly predicts the positive class. And a false negative is an outcome where the model incorrectly predicts the negative class.\n",
    "\n",
    "We can see that we need to reduce the amount of false negative: so we need to maybe improve feature which influence a lot on the result.\n",
    "Let s try to check SHAP result to see feature importance"
   ]
  },
  {
   "cell_type": "markdown",
   "metadata": {},
   "source": [
    "To Do : shap need to work and improve the model based on results of SHAP"
   ]
  },
  {
   "cell_type": "code",
   "execution_count": 69,
   "metadata": {
    "scrolled": true
   },
   "outputs": [],
   "source": [
    "# import shap\n",
    "# shap.initjs()\n",
    "\n",
    "# # def predict_fcn(x):\n",
    "# #     return classifiers[2].predict_proba(x)[:,1] #need to add in module method for that - for ELAD\n",
    "# background_data = shap.maskers.Independent(x_train, max_samples=100)\n",
    "# explainer = shap.Explainer(predict_fcn, background_data)\n",
    "# shap_values_100 = explainer(x_test[:100])\n",
    "\n",
    "# #Explaining a prediction of \"Living\" 0\n",
    "# shap.plots.waterfall(shap_values_100[0], max_display=14)"
   ]
  },
  {
   "cell_type": "code",
   "execution_count": 70,
   "metadata": {},
   "outputs": [],
   "source": [
    "#explaining a prediction of \"death\" 1\n",
    "#shap.plots.waterfall(shap_values_100[2], max_display=14)"
   ]
  },
  {
   "cell_type": "markdown",
   "metadata": {},
   "source": [
    "## 2. First try to improve the model : improve dataset with improving BMI data"
   ]
  },
  {
   "cell_type": "code",
   "execution_count": 71,
   "metadata": {},
   "outputs": [
    {
     "data": {
      "text/html": [
       "<div>\n",
       "<style scoped>\n",
       "    .dataframe tbody tr th:only-of-type {\n",
       "        vertical-align: middle;\n",
       "    }\n",
       "\n",
       "    .dataframe tbody tr th {\n",
       "        vertical-align: top;\n",
       "    }\n",
       "\n",
       "    .dataframe thead th {\n",
       "        text-align: right;\n",
       "    }\n",
       "</style>\n",
       "<table border=\"1\" class=\"dataframe\">\n",
       "  <thead>\n",
       "    <tr style=\"text-align: right;\">\n",
       "      <th></th>\n",
       "      <th>bmi</th>\n",
       "      <th>weight</th>\n",
       "      <th>height</th>\n",
       "    </tr>\n",
       "  </thead>\n",
       "  <tbody>\n",
       "    <tr>\n",
       "      <th>4</th>\n",
       "      <td>NaN</td>\n",
       "      <td>NaN</td>\n",
       "      <td>188.0</td>\n",
       "    </tr>\n",
       "    <tr>\n",
       "      <th>7</th>\n",
       "      <td>NaN</td>\n",
       "      <td>NaN</td>\n",
       "      <td>165.0</td>\n",
       "    </tr>\n",
       "    <tr>\n",
       "      <th>8</th>\n",
       "      <td>NaN</td>\n",
       "      <td>NaN</td>\n",
       "      <td>170.2</td>\n",
       "    </tr>\n",
       "    <tr>\n",
       "      <th>12</th>\n",
       "      <td>NaN</td>\n",
       "      <td>NaN</td>\n",
       "      <td>175.3</td>\n",
       "    </tr>\n",
       "    <tr>\n",
       "      <th>13</th>\n",
       "      <td>NaN</td>\n",
       "      <td>NaN</td>\n",
       "      <td>172.7</td>\n",
       "    </tr>\n",
       "    <tr>\n",
       "      <th>15</th>\n",
       "      <td>NaN</td>\n",
       "      <td>NaN</td>\n",
       "      <td>160.0</td>\n",
       "    </tr>\n",
       "    <tr>\n",
       "      <th>22</th>\n",
       "      <td>NaN</td>\n",
       "      <td>NaN</td>\n",
       "      <td>162.6</td>\n",
       "    </tr>\n",
       "    <tr>\n",
       "      <th>28</th>\n",
       "      <td>NaN</td>\n",
       "      <td>NaN</td>\n",
       "      <td>160.0</td>\n",
       "    </tr>\n",
       "    <tr>\n",
       "      <th>37</th>\n",
       "      <td>NaN</td>\n",
       "      <td>NaN</td>\n",
       "      <td>151.8</td>\n",
       "    </tr>\n",
       "    <tr>\n",
       "      <th>41</th>\n",
       "      <td>NaN</td>\n",
       "      <td>NaN</td>\n",
       "      <td>165.1</td>\n",
       "    </tr>\n",
       "  </tbody>\n",
       "</table>\n",
       "</div>"
      ],
      "text/plain": [
       "    bmi  weight  height\n",
       "4   NaN     NaN   188.0\n",
       "7   NaN     NaN   165.0\n",
       "8   NaN     NaN   170.2\n",
       "12  NaN     NaN   175.3\n",
       "13  NaN     NaN   172.7\n",
       "15  NaN     NaN   160.0\n",
       "22  NaN     NaN   162.6\n",
       "28  NaN     NaN   160.0\n",
       "37  NaN     NaN   151.8\n",
       "41  NaN     NaN   165.1"
      ]
     },
     "execution_count": 71,
     "metadata": {},
     "output_type": "execute_result"
    }
   ],
   "source": [
    "df2 = getBasicDataset()\n",
    "bmi_set = df2[['bmi','weight','height']]\n",
    "bmi_set[bmi_set.isnull().any(axis=1)].head(10)"
   ]
  },
  {
   "cell_type": "markdown",
   "metadata": {},
   "source": [
    "Bmi is a feature which depends on weigh and heigh which already appear in the dataset. BMI has many missing value but when it is missing, also weigh or heigh is missing so we cannot compute it to fill missing values."
   ]
  },
  {
   "cell_type": "code",
   "execution_count": 72,
   "metadata": {},
   "outputs": [],
   "source": [
    "def createBMI_cat(complete_data):\n",
    "    bmi_cat = ['Severe Thinness', 'Moderate Thinness','Mild Thinness','Normal', \n",
    "           'Overweight','Obese l1',\"Obese l2\",\" Obese l3\",\"missing bmi 2\"]\n",
    "    category_bmi = pd.cut(complete_data['bmi'], bins=[0,16,17,18.5,25,30,35,40,80,100], labels=bmi_cat)\n",
    "    complete_data.insert(9,'bmi group',category_bmi)\n",
    "    complete_data.drop('bmi', inplace=True, axis=1)\n",
    "    complete_data = pd.get_dummies(complete_data,columns=['bmi group'])\n",
    "    complete_data.drop('bmi group_missing bmi 2', inplace=True, axis=1) \n",
    "    return complete_data"
   ]
  },
  {
   "cell_type": "code",
   "execution_count": 73,
   "metadata": {},
   "outputs": [],
   "source": [
    "df2 = createBMI_cat(df2)\n",
    "df2 = fill_missing_num_values_with_mean(df2)\n",
    "df2 = fill_missing_values_binary(df2)"
   ]
  },
  {
   "cell_type": "code",
   "execution_count": 74,
   "metadata": {},
   "outputs": [
    {
     "name": "stderr",
     "output_type": "stream",
     "text": [
      "C:\\Users\\eva\\anaconda3\\lib\\site-packages\\sklearn\\linear_model\\_logistic.py:814: ConvergenceWarning: lbfgs failed to converge (status=1):\n",
      "STOP: TOTAL NO. of ITERATIONS REACHED LIMIT.\n",
      "\n",
      "Increase the number of iterations (max_iter) or scale the data as shown in:\n",
      "    https://scikit-learn.org/stable/modules/preprocessing.html\n",
      "Please also refer to the documentation for alternative solver options:\n",
      "    https://scikit-learn.org/stable/modules/linear_model.html#logistic-regression\n",
      "  n_iter_i = _check_optimize_result(\n"
     ]
    },
    {
     "name": "stdout",
     "output_type": "stream",
     "text": [
      "         Method  precision_score  recall_score  f1_score  accuracy_score  \\\n",
      "0  RandomForest         0.730419      0.253316  0.376173        0.927493   \n",
      "1    ExtraTrees         0.770574      0.195199  0.311492        0.925530   \n",
      "2       Votingr         0.778281      0.108654  0.190687        0.920406   \n",
      "\n",
      "    time   \n",
      "0  53.28s  \n",
      "1  53.76s  \n",
      "2  71.63s  \n"
     ]
    }
   ],
   "source": [
    "model = DSWorkshopModel(df2)\n",
    "train_data = df2.drop('hospital_death', axis=1)\n",
    "true_values = df2.hospital_death\n",
    "x_train, x_test, y_train, y_test = train_test_split(train_data, true_values, test_size=0.2, stratify=true_values, shuffle=True)\n",
    "model.set_split(x_train=x_train, y_train=y_train, x_test=x_test, y_test=y_test)\n",
    "model.train()\n",
    "models_predictions, pred_results = model.test()\n",
    "print(pred_results)"
   ]
  },
  {
   "cell_type": "markdown",
   "metadata": {},
   "source": [
    "After changing bmi, let s see if we have better results: 83.8% precision, before we had 80%.\n",
    "Lets try now to improve more, by giving more meaning to our dataset"
   ]
  },
  {
   "cell_type": "markdown",
   "metadata": {},
   "source": [
    "## 3.  Improve dataset with adding meaning to GCS data"
   ]
  },
  {
   "cell_type": "markdown",
   "metadata": {},
   "source": [
    "This test gives a score that helps to know how much a person is in danger to die: we will try to add the result to the data because it s not given in the original data: we have only score for each component of the test: eyes, motor and verbal.\n",
    "GCS - Glasgow Coma Scale : clinical scale used to reliably measure a person's level of consciousness after a brain injury. The score can be between 3 and 15 and can be separate in category:\n",
    "\n",
    "3-8 severe\n",
    "9-12 moderate\n",
    "13-15 mild\n",
    "=> Low score is correlated with higher risk of death."
   ]
  },
  {
   "cell_type": "code",
   "execution_count": 75,
   "metadata": {},
   "outputs": [],
   "source": [
    "df3 = getBasicDataset()\n",
    "df3 = createBMI_cat(df3)"
   ]
  },
  {
   "cell_type": "code",
   "execution_count": 76,
   "metadata": {},
   "outputs": [],
   "source": [
    "def generate_gcs_score(row): #sum each component\n",
    "    return row['gcs_motor_apache']+row['gcs_verbal_apache']+row['gcs_eyes_apache']\n",
    "\n",
    "def dealWithGCS(df3):\n",
    "    gcs_params = ['gcs_motor_apache', 'gcs_verbal_apache','gcs_eyes_apache']\n",
    "    gcs_data = df3[gcs_params]\n",
    "    df3['gcs_score']=df3.apply(generate_gcs_score,axis=1)\n",
    "    gcs_cat = ['Severe', 'Moderate','Mild']\n",
    "    category_gcs = pd.cut(df3['gcs_score'], bins=[3,8,12,15], \n",
    "                          labels=gcs_cat)\n",
    "    df3.insert(3,'gcs group',category_gcs)\n",
    "    df3 = pd.get_dummies(df3,columns=['gcs group'])\n",
    "    df3 = df3.drop('gcs_score', axis=1)\n",
    "    return df3"
   ]
  },
  {
   "cell_type": "code",
   "execution_count": 77,
   "metadata": {},
   "outputs": [],
   "source": [
    "df3 = dealWithGCS(df3)"
   ]
  },
  {
   "cell_type": "code",
   "execution_count": 78,
   "metadata": {},
   "outputs": [
    {
     "data": {
      "text/html": [
       "<div>\n",
       "<style scoped>\n",
       "    .dataframe tbody tr th:only-of-type {\n",
       "        vertical-align: middle;\n",
       "    }\n",
       "\n",
       "    .dataframe tbody tr th {\n",
       "        vertical-align: top;\n",
       "    }\n",
       "\n",
       "    .dataframe thead th {\n",
       "        text-align: right;\n",
       "    }\n",
       "</style>\n",
       "<table border=\"1\" class=\"dataframe\">\n",
       "  <thead>\n",
       "    <tr style=\"text-align: right;\">\n",
       "      <th></th>\n",
       "      <th>age</th>\n",
       "      <th>elective_surgery</th>\n",
       "      <th>height</th>\n",
       "      <th>icu_id</th>\n",
       "      <th>pre_icu_los_days</th>\n",
       "      <th>weight</th>\n",
       "      <th>apache_2_diagnosis</th>\n",
       "      <th>apache_3j_diagnosis</th>\n",
       "      <th>apache_post_operative</th>\n",
       "      <th>arf_apache</th>\n",
       "      <th>...</th>\n",
       "      <th>bmi group_Moderate Thinness</th>\n",
       "      <th>bmi group_Mild Thinness</th>\n",
       "      <th>bmi group_Normal</th>\n",
       "      <th>bmi group_Overweight</th>\n",
       "      <th>bmi group_Obese l1</th>\n",
       "      <th>bmi group_Obese l2</th>\n",
       "      <th>bmi group_ Obese l3</th>\n",
       "      <th>gcs group_Severe</th>\n",
       "      <th>gcs group_Moderate</th>\n",
       "      <th>gcs group_Mild</th>\n",
       "    </tr>\n",
       "  </thead>\n",
       "  <tbody>\n",
       "    <tr>\n",
       "      <th>0</th>\n",
       "      <td>68.0</td>\n",
       "      <td>0</td>\n",
       "      <td>180.3</td>\n",
       "      <td>92</td>\n",
       "      <td>0.541667</td>\n",
       "      <td>73.90000</td>\n",
       "      <td>113.0</td>\n",
       "      <td>502.01</td>\n",
       "      <td>0</td>\n",
       "      <td>0.0</td>\n",
       "      <td>...</td>\n",
       "      <td>0</td>\n",
       "      <td>0</td>\n",
       "      <td>1</td>\n",
       "      <td>0</td>\n",
       "      <td>0</td>\n",
       "      <td>0</td>\n",
       "      <td>0</td>\n",
       "      <td>0</td>\n",
       "      <td>0</td>\n",
       "      <td>1</td>\n",
       "    </tr>\n",
       "    <tr>\n",
       "      <th>1</th>\n",
       "      <td>77.0</td>\n",
       "      <td>0</td>\n",
       "      <td>160.0</td>\n",
       "      <td>90</td>\n",
       "      <td>0.927778</td>\n",
       "      <td>70.20000</td>\n",
       "      <td>108.0</td>\n",
       "      <td>203.01</td>\n",
       "      <td>0</td>\n",
       "      <td>0.0</td>\n",
       "      <td>...</td>\n",
       "      <td>0</td>\n",
       "      <td>0</td>\n",
       "      <td>0</td>\n",
       "      <td>1</td>\n",
       "      <td>0</td>\n",
       "      <td>0</td>\n",
       "      <td>0</td>\n",
       "      <td>1</td>\n",
       "      <td>0</td>\n",
       "      <td>0</td>\n",
       "    </tr>\n",
       "    <tr>\n",
       "      <th>2</th>\n",
       "      <td>25.0</td>\n",
       "      <td>0</td>\n",
       "      <td>172.7</td>\n",
       "      <td>93</td>\n",
       "      <td>0.000694</td>\n",
       "      <td>95.30000</td>\n",
       "      <td>122.0</td>\n",
       "      <td>703.03</td>\n",
       "      <td>0</td>\n",
       "      <td>0.0</td>\n",
       "      <td>...</td>\n",
       "      <td>0</td>\n",
       "      <td>0</td>\n",
       "      <td>0</td>\n",
       "      <td>0</td>\n",
       "      <td>1</td>\n",
       "      <td>0</td>\n",
       "      <td>0</td>\n",
       "      <td>0</td>\n",
       "      <td>0</td>\n",
       "      <td>1</td>\n",
       "    </tr>\n",
       "    <tr>\n",
       "      <th>3</th>\n",
       "      <td>81.0</td>\n",
       "      <td>1</td>\n",
       "      <td>165.1</td>\n",
       "      <td>92</td>\n",
       "      <td>0.000694</td>\n",
       "      <td>61.70000</td>\n",
       "      <td>203.0</td>\n",
       "      <td>1206.03</td>\n",
       "      <td>1</td>\n",
       "      <td>0.0</td>\n",
       "      <td>...</td>\n",
       "      <td>0</td>\n",
       "      <td>0</td>\n",
       "      <td>1</td>\n",
       "      <td>0</td>\n",
       "      <td>0</td>\n",
       "      <td>0</td>\n",
       "      <td>0</td>\n",
       "      <td>0</td>\n",
       "      <td>0</td>\n",
       "      <td>1</td>\n",
       "    </tr>\n",
       "    <tr>\n",
       "      <th>4</th>\n",
       "      <td>19.0</td>\n",
       "      <td>0</td>\n",
       "      <td>188.0</td>\n",
       "      <td>91</td>\n",
       "      <td>0.073611</td>\n",
       "      <td>84.02834</td>\n",
       "      <td>119.0</td>\n",
       "      <td>601.01</td>\n",
       "      <td>0</td>\n",
       "      <td>0.0</td>\n",
       "      <td>...</td>\n",
       "      <td>0</td>\n",
       "      <td>0</td>\n",
       "      <td>0</td>\n",
       "      <td>0</td>\n",
       "      <td>0</td>\n",
       "      <td>0</td>\n",
       "      <td>0</td>\n",
       "      <td>0</td>\n",
       "      <td>0</td>\n",
       "      <td>0</td>\n",
       "    </tr>\n",
       "  </tbody>\n",
       "</table>\n",
       "<p>5 rows × 276 columns</p>\n",
       "</div>"
      ],
      "text/plain": [
       "    age  elective_surgery  height  icu_id  pre_icu_los_days    weight  \\\n",
       "0  68.0                 0   180.3      92          0.541667  73.90000   \n",
       "1  77.0                 0   160.0      90          0.927778  70.20000   \n",
       "2  25.0                 0   172.7      93          0.000694  95.30000   \n",
       "3  81.0                 1   165.1      92          0.000694  61.70000   \n",
       "4  19.0                 0   188.0      91          0.073611  84.02834   \n",
       "\n",
       "   apache_2_diagnosis  apache_3j_diagnosis  apache_post_operative  arf_apache  \\\n",
       "0               113.0               502.01                      0         0.0   \n",
       "1               108.0               203.01                      0         0.0   \n",
       "2               122.0               703.03                      0         0.0   \n",
       "3               203.0              1206.03                      1         0.0   \n",
       "4               119.0               601.01                      0         0.0   \n",
       "\n",
       "   ...  bmi group_Moderate Thinness  bmi group_Mild Thinness  \\\n",
       "0  ...                            0                        0   \n",
       "1  ...                            0                        0   \n",
       "2  ...                            0                        0   \n",
       "3  ...                            0                        0   \n",
       "4  ...                            0                        0   \n",
       "\n",
       "   bmi group_Normal  bmi group_Overweight  bmi group_Obese l1  \\\n",
       "0                 1                     0                   0   \n",
       "1                 0                     1                   0   \n",
       "2                 0                     0                   1   \n",
       "3                 1                     0                   0   \n",
       "4                 0                     0                   0   \n",
       "\n",
       "   bmi group_Obese l2  bmi group_ Obese l3  gcs group_Severe  \\\n",
       "0                   0                    0                 0   \n",
       "1                   0                    0                 1   \n",
       "2                   0                    0                 0   \n",
       "3                   0                    0                 0   \n",
       "4                   0                    0                 0   \n",
       "\n",
       "   gcs group_Moderate  gcs group_Mild  \n",
       "0                   0               1  \n",
       "1                   0               0  \n",
       "2                   0               1  \n",
       "3                   0               1  \n",
       "4                   0               0  \n",
       "\n",
       "[5 rows x 276 columns]"
      ]
     },
     "execution_count": 78,
     "metadata": {},
     "output_type": "execute_result"
    }
   ],
   "source": [
    "df3 = fill_missing_num_values_with_mean(df3)\n",
    "df3 = fill_missing_values_binary(df3)\n",
    "df3[['gcs group_Moderate','gcs group_Severe', 'gcs group_Mild', 'gcs_unable_apache']].head() #we will see new column: gcs_score and all binary column for moderate, severe,mild"
   ]
  },
  {
   "cell_type": "code",
   "execution_count": 80,
   "metadata": {},
   "outputs": [
    {
     "name": "stderr",
     "output_type": "stream",
     "text": [
      "C:\\Users\\eva\\anaconda3\\lib\\site-packages\\sklearn\\linear_model\\_logistic.py:814: ConvergenceWarning: lbfgs failed to converge (status=1):\n",
      "STOP: TOTAL NO. of ITERATIONS REACHED LIMIT.\n",
      "\n",
      "Increase the number of iterations (max_iter) or scale the data as shown in:\n",
      "    https://scikit-learn.org/stable/modules/preprocessing.html\n",
      "Please also refer to the documentation for alternative solver options:\n",
      "    https://scikit-learn.org/stable/modules/linear_model.html#logistic-regression\n",
      "  n_iter_i = _check_optimize_result(\n"
     ]
    },
    {
     "name": "stdout",
     "output_type": "stream",
     "text": [
      "         Method  precision_score  recall_score  f1_score  accuracy_score  \\\n",
      "0  RandomForest         0.738956      0.232470  0.353676        0.926675   \n",
      "1    ExtraTrees         0.750670      0.176879  0.286299        0.923895   \n",
      "2       Votingr         0.824121      0.103601  0.184063        0.920733   \n",
      "\n",
      "    time   \n",
      "0  53.63s  \n",
      "1  54.98s  \n",
      "2  72.78s  \n"
     ]
    }
   ],
   "source": [
    "model = runModel(df3)\n",
    "models_predictions, pred_results = model.test()\n",
    "print(pred_results)"
   ]
  },
  {
   "cell_type": "markdown",
   "metadata": {},
   "source": [
    "results of adding gsc data: improve result : so we keep it"
   ]
  },
  {
   "cell_type": "code",
   "execution_count": null,
   "metadata": {},
   "outputs": [],
   "source": [
    "### Add here other changes on data and result of running+ analyze with SHAP and other tools"
   ]
  }
 ],
 "metadata": {
  "interpreter": {
   "hash": "398e8141fdf2977bb876422d91cc2aca16ac353583e53b22670e81c1c8f67dd1"
  },
  "kernelspec": {
   "display_name": "Python 3",
   "language": "python",
   "name": "python3"
  },
  "language_info": {
   "codemirror_mode": {
    "name": "ipython",
    "version": 3
   },
   "file_extension": ".py",
   "mimetype": "text/x-python",
   "name": "python",
   "nbconvert_exporter": "python",
   "pygments_lexer": "ipython3",
   "version": "3.8.8"
  }
 },
 "nbformat": 4,
 "nbformat_minor": 2
}
