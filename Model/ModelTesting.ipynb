{
 "cells": [
  {
   "cell_type": "code",
   "execution_count": 30,
   "metadata": {},
   "outputs": [],
   "source": [
    "#data processing\n",
    "import pandas as pd\n",
    "import numpy as np\n",
    "\n",
    "#data visualizations\n",
    "import seaborn as sns\n",
    "import matplotlib.pyplot as plt\n",
    "\n",
    "%matplotlib inline\n",
    "\n",
    "#Machine learning library\n",
    "import sklearn\n",
    "from sklearn import preprocessing\n",
    "from sklearn.model_selection import train_test_split\n",
    "\n",
    "from ModelModule import DSWorkshopModel  # separate python file which hold data and run models"
   ]
  },
  {
   "cell_type": "code",
   "execution_count": 31,
   "metadata": {},
   "outputs": [],
   "source": [
    "numerical_features = [\"age\", \"bmi\",\"height\", \"weight\", \n",
    "                      \"pre_icu_los_days\", \"gcs_eyes_apache\",\"apache_2_diagnosis\",\n",
    "                      \"gcs_motor_apache\", \"gcs_verbal_apache\", \"heart_rate_apache\",\n",
    "                     \"map_apache\", \"resprate_apache\", \"temp_apache\", \"d1_diasbp_max\",\n",
    "                      \"d1_diasbp_min\",\"d1_diasbp_noninvasive_max\", \"d1_diasbp_noninvasive_min\",\n",
    "                      \"d1_heartrate_max\", \"d1_heartrate_min\", \"d1_mbp_max\", \"d1_mbp_min\", \n",
    "                      \"d1_mbp_noninvasive_max\", \"d1_mbp_noninvasive_min\", \"d1_resprate_max\", \"d1_resprate_min\",\n",
    "                      \"d1_spo2_max\", \"d1_spo2_min\", \"d1_sysbp_max\", \"d1_sysbp_min\",\n",
    "                      \"d1_sysbp_noninvasive_max\", \"d1_sysbp_noninvasive_min\", \"d1_temp_max\", \"d1_temp_min\",\n",
    "                      \"h1_diasbp_max\", \"h1_diasbp_min\", \"h1_diasbp_noninvasive_max\", \"h1_diasbp_noninvasive_min\",\n",
    "                      \"h1_heartrate_max\", \"h1_heartrate_min\", \"h1_mbp_max\", \"h1_mbp_min\",\n",
    "                      \"h1_mbp_noninvasive_max\", \"h1_mbp_noninvasive_min\", \"h1_resprate_max\", \"h1_resprate_min\",\n",
    "                      \"h1_spo2_max\", \"h1_spo2_min\", \"h1_sysbp_max\", \"h1_sysbp_min\",\n",
    "                      \"h1_sysbp_noninvasive_max\", \"h1_sysbp_noninvasive_min\", \"d1_glucose_max\", \"d1_glucose_min\",\n",
    "                      \"d1_potassium_max\", \"d1_potassium_min\", \"apache_4a_hospital_death_prob\", \"apache_4a_icu_death_prob\",\n",
    "                      \"apache_3j_diagnosis\"]\n",
    "\n",
    "categorial_features = [\"hospital_id\", \"ethnicity\", \"gender\", \"icu_admit_source\", \"apache_3j_bodysystem\", \"apache_2_bodysystem\", \"icu_stay_type\", \"icu_type\"]\n",
    "\n",
    "binary_features = [\"arf_apache\", \"gcs_unable_apache\", \"intubated_apache\", \n",
    "                   \"ventilated_apache\", \"elective_surgery\", \"apache_post_operative\",\n",
    "                   \"aids\", \"cirrhosis\", \"diabetes_mellitus\", \"hepatic_failure\", \"immunosuppression\",\n",
    "                   \"leukemia\", \"lymphoma\", \"solid_tumor_with_metastasis\"]"
   ]
  },
  {
   "cell_type": "code",
   "execution_count": 32,
   "metadata": {},
   "outputs": [],
   "source": [
    "def getBasicDataset():\n",
    "    complete_data = pd.read_csv('../data/dataset.csv') #load the dataset\n",
    "    complete_data.drop(complete_data.columns[[0,1,83]], axis=1, inplace=True) #delete feature 83\n",
    "    complete_data = pd.get_dummies(complete_data,columns=categorial_features) #one hot encoding\n",
    "    return complete_data"
   ]
  },
  {
   "cell_type": "code",
   "execution_count": 33,
   "metadata": {},
   "outputs": [],
   "source": [
    "# Filling missing NUMERICAL values.\n",
    "def fill_missing_num_values_with_mean(complete_data):\n",
    "    for feature in numerical_features:\n",
    "        if feature in complete_data.columns:\n",
    "            mean_value = complete_data[feature].mean()\n",
    "            complete_data[feature].fillna(value=mean_value, inplace=True)\n",
    "    return complete_data\n"
   ]
  },
  {
   "cell_type": "code",
   "execution_count": 34,
   "metadata": {},
   "outputs": [],
   "source": [
    "def fill_missing_values_binary(df): \n",
    "    #add column for binary missing values\n",
    "    binary_features_with_missing_values = df[binary_features].columns[df[binary_features].isnull().any()]\n",
    "    for f in binary_features_with_missing_values:\n",
    "        name = \"missing \" + f\n",
    "        df[name] = (df[f].isnull()).astype(int)\n",
    "    # change missing values to 0 in the original feature\n",
    "    for f in binary_features:\n",
    "        df[f] = df[f].fillna(0)\n",
    "    return df"
   ]
  },
  {
   "cell_type": "markdown",
   "metadata": {},
   "source": [
    "# Basic Check"
   ]
  },
  {
   "cell_type": "code",
   "execution_count": 35,
   "metadata": {},
   "outputs": [],
   "source": [
    "df1 = getBasicDataset()\n",
    "df1 = fill_missing_num_values_with_mean(df1)\n",
    "df1 = fill_missing_values_binary(df1)"
   ]
  },
  {
   "cell_type": "code",
   "execution_count": 36,
   "metadata": {},
   "outputs": [
    {
     "name": "stdout",
     "output_type": "stream",
     "text": [
      "Data Shape: (91713, 278)\n",
      "Data preview:\n"
     ]
    },
    {
     "data": {
      "text/html": [
       "<div>\n",
       "<style scoped>\n",
       "    .dataframe tbody tr th:only-of-type {\n",
       "        vertical-align: middle;\n",
       "    }\n",
       "\n",
       "    .dataframe tbody tr th {\n",
       "        vertical-align: top;\n",
       "    }\n",
       "\n",
       "    .dataframe thead th {\n",
       "        text-align: right;\n",
       "    }\n",
       "</style>\n",
       "<table border=\"1\" class=\"dataframe\">\n",
       "  <thead>\n",
       "    <tr style=\"text-align: right;\">\n",
       "      <th></th>\n",
       "      <th>age</th>\n",
       "      <th>bmi</th>\n",
       "      <th>elective_surgery</th>\n",
       "      <th>height</th>\n",
       "      <th>icu_id</th>\n",
       "      <th>pre_icu_los_days</th>\n",
       "      <th>weight</th>\n",
       "      <th>apache_2_diagnosis</th>\n",
       "      <th>apache_3j_diagnosis</th>\n",
       "      <th>apache_post_operative</th>\n",
       "      <th>...</th>\n",
       "      <th>missing intubated_apache</th>\n",
       "      <th>missing ventilated_apache</th>\n",
       "      <th>missing aids</th>\n",
       "      <th>missing cirrhosis</th>\n",
       "      <th>missing diabetes_mellitus</th>\n",
       "      <th>missing hepatic_failure</th>\n",
       "      <th>missing immunosuppression</th>\n",
       "      <th>missing leukemia</th>\n",
       "      <th>missing lymphoma</th>\n",
       "      <th>missing solid_tumor_with_metastasis</th>\n",
       "    </tr>\n",
       "  </thead>\n",
       "  <tbody>\n",
       "    <tr>\n",
       "      <th>0</th>\n",
       "      <td>68.0</td>\n",
       "      <td>22.730000</td>\n",
       "      <td>0</td>\n",
       "      <td>180.3</td>\n",
       "      <td>92</td>\n",
       "      <td>0.541667</td>\n",
       "      <td>73.90000</td>\n",
       "      <td>113.0</td>\n",
       "      <td>502.01</td>\n",
       "      <td>0</td>\n",
       "      <td>...</td>\n",
       "      <td>0</td>\n",
       "      <td>0</td>\n",
       "      <td>0</td>\n",
       "      <td>0</td>\n",
       "      <td>0</td>\n",
       "      <td>0</td>\n",
       "      <td>0</td>\n",
       "      <td>0</td>\n",
       "      <td>0</td>\n",
       "      <td>0</td>\n",
       "    </tr>\n",
       "    <tr>\n",
       "      <th>1</th>\n",
       "      <td>77.0</td>\n",
       "      <td>27.420000</td>\n",
       "      <td>0</td>\n",
       "      <td>160.0</td>\n",
       "      <td>90</td>\n",
       "      <td>0.927778</td>\n",
       "      <td>70.20000</td>\n",
       "      <td>108.0</td>\n",
       "      <td>203.01</td>\n",
       "      <td>0</td>\n",
       "      <td>...</td>\n",
       "      <td>0</td>\n",
       "      <td>0</td>\n",
       "      <td>0</td>\n",
       "      <td>0</td>\n",
       "      <td>0</td>\n",
       "      <td>0</td>\n",
       "      <td>0</td>\n",
       "      <td>0</td>\n",
       "      <td>0</td>\n",
       "      <td>0</td>\n",
       "    </tr>\n",
       "    <tr>\n",
       "      <th>2</th>\n",
       "      <td>25.0</td>\n",
       "      <td>31.950000</td>\n",
       "      <td>0</td>\n",
       "      <td>172.7</td>\n",
       "      <td>93</td>\n",
       "      <td>0.000694</td>\n",
       "      <td>95.30000</td>\n",
       "      <td>122.0</td>\n",
       "      <td>703.03</td>\n",
       "      <td>0</td>\n",
       "      <td>...</td>\n",
       "      <td>0</td>\n",
       "      <td>0</td>\n",
       "      <td>0</td>\n",
       "      <td>0</td>\n",
       "      <td>0</td>\n",
       "      <td>0</td>\n",
       "      <td>0</td>\n",
       "      <td>0</td>\n",
       "      <td>0</td>\n",
       "      <td>0</td>\n",
       "    </tr>\n",
       "    <tr>\n",
       "      <th>3</th>\n",
       "      <td>81.0</td>\n",
       "      <td>22.640000</td>\n",
       "      <td>1</td>\n",
       "      <td>165.1</td>\n",
       "      <td>92</td>\n",
       "      <td>0.000694</td>\n",
       "      <td>61.70000</td>\n",
       "      <td>203.0</td>\n",
       "      <td>1206.03</td>\n",
       "      <td>1</td>\n",
       "      <td>...</td>\n",
       "      <td>0</td>\n",
       "      <td>0</td>\n",
       "      <td>0</td>\n",
       "      <td>0</td>\n",
       "      <td>0</td>\n",
       "      <td>0</td>\n",
       "      <td>0</td>\n",
       "      <td>0</td>\n",
       "      <td>0</td>\n",
       "      <td>0</td>\n",
       "    </tr>\n",
       "    <tr>\n",
       "      <th>4</th>\n",
       "      <td>19.0</td>\n",
       "      <td>29.185818</td>\n",
       "      <td>0</td>\n",
       "      <td>188.0</td>\n",
       "      <td>91</td>\n",
       "      <td>0.073611</td>\n",
       "      <td>84.02834</td>\n",
       "      <td>119.0</td>\n",
       "      <td>601.01</td>\n",
       "      <td>0</td>\n",
       "      <td>...</td>\n",
       "      <td>0</td>\n",
       "      <td>0</td>\n",
       "      <td>0</td>\n",
       "      <td>0</td>\n",
       "      <td>0</td>\n",
       "      <td>0</td>\n",
       "      <td>0</td>\n",
       "      <td>0</td>\n",
       "      <td>0</td>\n",
       "      <td>0</td>\n",
       "    </tr>\n",
       "  </tbody>\n",
       "</table>\n",
       "<p>5 rows × 278 columns</p>\n",
       "</div>"
      ],
      "text/plain": [
       "    age        bmi  elective_surgery  height  icu_id  pre_icu_los_days  \\\n",
       "0  68.0  22.730000                 0   180.3      92          0.541667   \n",
       "1  77.0  27.420000                 0   160.0      90          0.927778   \n",
       "2  25.0  31.950000                 0   172.7      93          0.000694   \n",
       "3  81.0  22.640000                 1   165.1      92          0.000694   \n",
       "4  19.0  29.185818                 0   188.0      91          0.073611   \n",
       "\n",
       "     weight  apache_2_diagnosis  apache_3j_diagnosis  apache_post_operative  \\\n",
       "0  73.90000               113.0               502.01                      0   \n",
       "1  70.20000               108.0               203.01                      0   \n",
       "2  95.30000               122.0               703.03                      0   \n",
       "3  61.70000               203.0              1206.03                      1   \n",
       "4  84.02834               119.0               601.01                      0   \n",
       "\n",
       "   ...  missing intubated_apache  missing ventilated_apache  missing aids  \\\n",
       "0  ...                         0                          0             0   \n",
       "1  ...                         0                          0             0   \n",
       "2  ...                         0                          0             0   \n",
       "3  ...                         0                          0             0   \n",
       "4  ...                         0                          0             0   \n",
       "\n",
       "   missing cirrhosis  missing diabetes_mellitus  missing hepatic_failure  \\\n",
       "0                  0                          0                        0   \n",
       "1                  0                          0                        0   \n",
       "2                  0                          0                        0   \n",
       "3                  0                          0                        0   \n",
       "4                  0                          0                        0   \n",
       "\n",
       "   missing immunosuppression  missing leukemia  missing lymphoma  \\\n",
       "0                          0                 0                 0   \n",
       "1                          0                 0                 0   \n",
       "2                          0                 0                 0   \n",
       "3                          0                 0                 0   \n",
       "4                          0                 0                 0   \n",
       "\n",
       "   missing solid_tumor_with_metastasis  \n",
       "0                                    0  \n",
       "1                                    0  \n",
       "2                                    0  \n",
       "3                                    0  \n",
       "4                                    0  \n",
       "\n",
       "[5 rows x 278 columns]"
      ]
     },
     "execution_count": 36,
     "metadata": {},
     "output_type": "execute_result"
    }
   ],
   "source": [
    "model = DSWorkshopModel(df1, number_of_trees=100)\n",
    "model.print_details()"
   ]
  },
  {
   "cell_type": "code",
   "execution_count": 37,
   "metadata": {},
   "outputs": [],
   "source": [
    "# Preparing the data\n",
    "train_data = df1.drop('hospital_death', axis=1)\n",
    "true_values = df1.hospital_death\n",
    "x_train, x_test, y_train, y_test = train_test_split(train_data, true_values, test_size=0.2, stratify=true_values, shuffle=True)"
   ]
  },
  {
   "cell_type": "code",
   "execution_count": 38,
   "metadata": {},
   "outputs": [],
   "source": [
    "model.set_split(x_train=x_train, y_train=y_train, x_test=x_test, y_test=y_test)"
   ]
  },
  {
   "cell_type": "code",
   "execution_count": 39,
   "metadata": {},
   "outputs": [],
   "source": [
    "model.train()"
   ]
  },
  {
   "cell_type": "code",
   "execution_count": 40,
   "metadata": {},
   "outputs": [
    {
     "name": "stdout",
     "output_type": "stream",
     "text": [
      "          Method  Precision Score  Recall Score  F1 Score  \\\n",
      "0   RandomForest         0.778226      0.243841  0.371332   \n",
      "1     ExtraTrees         0.799486      0.196462  0.315416   \n",
      "2  XGBClassifier         0.684343      0.342388  0.456421   \n",
      "\n",
      "   Unbalanced Accuracy Score  Balanced Accuracy Score  \\\n",
      "0                   0.928747                 0.618639   \n",
      "1                   0.926402                 0.595904   \n",
      "2                   0.929619                 0.663736   \n",
      "\n",
      "   Positive Accuracy Score  Negative Accuracy Score Time Needed for Training  \n",
      "0                  0.24384                  0.99344                   13.84s  \n",
      "1                  0.19646                  0.99535                   14.86s  \n",
      "2                  0.34239                  0.98508                   28.68s  \n"
     ]
    }
   ],
   "source": [
    "models_predictions, pred_results = model.test()\n",
    "print(pred_results)"
   ]
  },
  {
   "cell_type": "markdown",
   "metadata": {},
   "source": [
    "## Temporary Model for Testing"
   ]
  },
  {
   "cell_type": "code",
   "execution_count": 50,
   "metadata": {},
   "outputs": [
    {
     "name": "stdout",
     "output_type": "stream",
     "text": [
      "Data Shape: (91713, 278)\n",
      "Data preview:\n"
     ]
    }
   ],
   "source": [
    "temp_df = getBasicDataset()\n",
    "temp_df = fill_missing_num_values_with_mean(temp_df)\n",
    "temp_df = fill_missing_values_binary(temp_df)\n",
    "\n",
    "temp_model = DSWorkshopModel(temp_df, number_of_trees=200)\n",
    "temp_model.print_details()\n",
    "\n",
    "temp_train_data = temp_df.drop('hospital_death', axis=1)\n",
    "temp_true_values = temp_df.hospital_death\n",
    "x_train, x_test, y_train, y_test = train_test_split(temp_train_data, temp_true_values, test_size=0.2, stratify=true_values, shuffle=True)"
   ]
  },
  {
   "cell_type": "code",
   "execution_count": 51,
   "metadata": {},
   "outputs": [],
   "source": [
    "temp_model.set_split(x_train=x_train, y_train=y_train, x_test=x_test, y_test=y_test)"
   ]
  },
  {
   "cell_type": "code",
   "execution_count": 52,
   "metadata": {},
   "outputs": [],
   "source": [
    "temp_model.train()"
   ]
  },
  {
   "cell_type": "code",
   "execution_count": 53,
   "metadata": {},
   "outputs": [
    {
     "name": "stdout",
     "output_type": "stream",
     "text": [
      "          Method  Precision Score  Recall Score  F1 Score  \\\n",
      "0   RandomForest         0.738964      0.243209  0.365970   \n",
      "1     ExtraTrees         0.760705      0.190777  0.305051   \n",
      "2  XGBClassifier         0.648235      0.348073  0.452939   \n",
      "\n",
      "   Unbalanced Accuracy Score  Balanced Accuracy Score  \\\n",
      "0                   0.927275                 0.617547   \n",
      "1                   0.924985                 0.592554   \n",
      "2                   0.927438                 0.665117   \n",
      "\n",
      "   Positive Accuracy Score  Negative Accuracy Score Time Needed for Training  \n",
      "0                  0.24321                  0.99189                   29.12s  \n",
      "1                  0.19078                  0.99433                   32.77s  \n",
      "2                  0.34807                  0.98216                    67.3s  \n"
     ]
    }
   ],
   "source": [
    "temp_models_predictions, temp_pred_results = temp_model.test()\n",
    "print(temp_pred_results)"
   ]
  }
 ],
 "metadata": {
  "interpreter": {
   "hash": "398e8141fdf2977bb876422d91cc2aca16ac353583e53b22670e81c1c8f67dd1"
  },
  "kernelspec": {
   "display_name": "Python 3.9.6 64-bit",
   "language": "python",
   "name": "python3"
  },
  "language_info": {
   "codemirror_mode": {
    "name": "ipython",
    "version": 3
   },
   "file_extension": ".py",
   "mimetype": "text/x-python",
   "name": "python",
   "nbconvert_exporter": "python",
   "pygments_lexer": "ipython3",
   "version": "3.9.6"
  },
  "orig_nbformat": 4
 },
 "nbformat": 4,
 "nbformat_minor": 2
}
