{
 "cells": [
  {
   "cell_type": "code",
   "execution_count": null,
   "metadata": {},
   "outputs": [],
   "source": [
    "import pandas as pd\n",
    "import sklearn"
   ]
  },
  {
   "cell_type": "code",
   "execution_count": null,
   "metadata": {},
   "outputs": [],
   "source": [
    "# This code souldn't be in the Model API  as it here just to mimic usage.\n",
    "data = pd.read_csv('../data/dataset.csv')\n",
    "data.head()"
   ]
  },
  {
   "cell_type": "code",
   "execution_count": null,
   "metadata": {},
   "outputs": [],
   "source": [
    "data.shape"
   ]
  },
  {
   "cell_type": "code",
   "execution_count": null,
   "metadata": {},
   "outputs": [],
   "source": [
    "true_values = data.hospital_death\n",
    "train_data = data.drop('hospital_death', axis=1)"
   ]
  },
  {
   "cell_type": "markdown",
   "metadata": {},
   "source": [
    "<h5>Split for Train and Test</h5>"
   ]
  },
  {
   "cell_type": "code",
   "execution_count": null,
   "metadata": {},
   "outputs": [],
   "source": [
    "from sklearn.model_selection import train_test_split\n",
    "x_train, x_test, y_train, y_test = train_test_split(train_data, true_values, test_size=0.2, stratify=true_values)"
   ]
  },
  {
   "cell_type": "markdown",
   "metadata": {},
   "source": [
    "# Training and Testing"
   ]
  },
  {
   "cell_type": "markdown",
   "metadata": {},
   "source": [
    "### Initializing models and models parameters"
   ]
  },
  {
   "cell_type": "code",
   "execution_count": null,
   "metadata": {},
   "outputs": [],
   "source": [
    "from sklearn.linear_model import LogisticRegression\n",
    "from sklearn.ensemble import RandomForestClassifier, GradientBoostingClassifier, ExtraTreesClassifier, VotingClassifier\n",
    "from sklearn.svm import SVC\n",
    "from sklearn.tree import DecisionTreeClassifier\n",
    "from sklearn.neighbors import KNeighborsClassifier\n",
    "\n",
    "from sklearn import metrics\n",
    "\n",
    "import time\n",
    "\n",
    "\n",
    "# Preparing a list of models:\n",
    "\n",
    "logisticRegressionIterNum = 100\n",
    "\n",
    "# Preparing a list of estimators for Voting Classifier \n",
    "estimators = [\n",
    "    ('lr',LogisticRegression()),\n",
    "    ('dtc',DecisionTreeClassifier()),    \n",
    "    ('rfc',RandomForestClassifier()),\n",
    "    ('knc',KNeighborsClassifier())\n",
    "]\n",
    "\n",
    "classifiers = [\n",
    "    LogisticRegression(max_iter=100),\n",
    "    RandomForestClassifier(),\n",
    "    ExtraTreesClassifier(),\n",
    "    GradientBoostingClassifier(),\n",
    "    VotingClassifier(estimators=estimators),\n",
    "    SVC()\n",
    "]\n",
    "\n",
    "labels = [\n",
    "    \"LR\",\n",
    "    \"RandomForest\",\n",
    "    \"ExtraTrees\",\n",
    "    \"GradientBoosting\",\n",
    "    \"Votingr\",\n",
    "    \"SVC\"\n",
    "]"
   ]
  },
  {
   "cell_type": "markdown",
   "metadata": {},
   "source": [
    "Copied this from Kaggle to solve the our lack of one hot encoding"
   ]
  },
  {
   "cell_type": "code",
   "execution_count": null,
   "metadata": {},
   "outputs": [],
   "source": [
    "from imblearn.pipeline import Pipeline\n",
    "\n",
    "from sklearn.preprocessing import OneHotEncoder, StandardScaler\n",
    "from sklearn.impute import SimpleImputer\n",
    "from sklearn.compose import ColumnTransformer\n",
    "\n",
    "cat_col = [\n",
    "    'ethnicity',\n",
    "    'gender',\n",
    "    'icu_admit_source',\n",
    "    'icu_stay_type',\n",
    "    'icu_type',\n",
    "    'apache_3j_bodysystem',\n",
    "    'apache_2_bodysystem'\n",
    "]\n",
    "\n",
    "num_col = [\n",
    "    'age',\n",
    "    'bmi',\n",
    "    'elective_surgery',\n",
    "    'height',\n",
    "    'icu_id',\n",
    "    'pre_icu_los_days',\n",
    "    'weight',\n",
    "    'apache_2_diagnosis',\n",
    "    'apache_3j_diagnosis',\n",
    "    'apache_post_operative',\n",
    "    'arf_apache',\n",
    "    'gcs_eyes_apache',\n",
    "    'gcs_motor_apache',\n",
    "    'gcs_unable_apache',\n",
    "    'gcs_verbal_apache',\n",
    "    'heart_rate_apache',\n",
    "    'intubated_apache',\n",
    "    'map_apache',\n",
    "    'resprate_apache',\n",
    "    'temp_apache',\n",
    "    'ventilated_apache',\n",
    "    'd1_diasbp_max',\n",
    "    'd1_diasbp_min',\n",
    "    'd1_diasbp_noninvasive_max',\n",
    "    'd1_diasbp_noninvasive_min',\n",
    "    'd1_heartrate_max',\n",
    "    'd1_heartrate_min',\n",
    "    'd1_mbp_max',\n",
    "    'd1_mbp_min',\n",
    "    'd1_mbp_noninvasive_max',\n",
    "    'd1_mbp_noninvasive_min',\n",
    "    'd1_resprate_max',\n",
    "    'd1_resprate_min',\n",
    "    'd1_spo2_max',\n",
    "    'd1_spo2_min',\n",
    "    'd1_sysbp_max',\n",
    "    'd1_sysbp_min',\n",
    "    'd1_sysbp_noninvasive_max',\n",
    "    'd1_sysbp_noninvasive_min',\n",
    "    'd1_temp_max',\n",
    "    'd1_temp_min',\n",
    "    'h1_diasbp_max',\n",
    "    'h1_diasbp_min',\n",
    "    'h1_diasbp_noninvasive_max',\n",
    "    'h1_diasbp_noninvasive_min',\n",
    "    'h1_heartrate_max',\n",
    "    'h1_heartrate_min',\n",
    "    'h1_mbp_max',\n",
    "    'h1_mbp_min',\n",
    "    'h1_mbp_noninvasive_max',\n",
    "    'h1_mbp_noninvasive_min',\n",
    "    'h1_resprate_max',\n",
    "    'h1_resprate_min',\n",
    "    'h1_spo2_max',\n",
    "    'h1_spo2_min',\n",
    "    'h1_sysbp_max',\n",
    "    'h1_sysbp_min',\n",
    "    'h1_sysbp_noninvasive_max',\n",
    "    'h1_sysbp_noninvasive_min',\n",
    "    'd1_glucose_max',\n",
    "    'd1_glucose_min',\n",
    "    'd1_potassium_max',\n",
    "    'd1_potassium_min',\n",
    "    'apache_4a_hospital_death_prob',\n",
    "    'apache_4a_icu_death_prob',\n",
    "    'aids',\n",
    "    'cirrhosis',\n",
    "    'diabetes_mellitus',\n",
    "    'hepatic_failure',\n",
    "    'immunosuppression',\n",
    "    'leukemia',\n",
    "    'lymphoma',\n",
    "    'solid_tumor_with_metastasis',\n",
    "    'hospital_death'\n",
    "]\n",
    "\n",
    "preprocess_pipeline = ColumnTransformer(transformers=\n",
    "                                        [('num', SimpleImputer(strategy='median'),num_col),\n",
    "                                        ('cat',OneHotEncoder(),cat_col)]\n",
    "                                       )\n",
    "\n"
   ]
  },
  {
   "cell_type": "markdown",
   "metadata": {},
   "source": [
    "## Train"
   ]
  },
  {
   "cell_type": "code",
   "execution_count": null,
   "metadata": {},
   "outputs": [],
   "source": [
    "\n",
    "# Array to save the fit running times of the model.\n",
    "fit_running_times = []\n",
    "\n",
    "def train(x_train, y_train):\n",
    "\n",
    "    # Fit Loop\n",
    "    i = 0\n",
    "    for classifier in classifiers:\n",
    "        i = i + 1\n",
    "        clf_pipline = Pipeline([(\"preprocessor\", preprocess_pipeline),(\"classifier\", classifier)])\n",
    "        start_time = time.time()\n",
    "        clf_pipline.fit(x_train, y_train)\n",
    "        end_time = time.time()\n",
    "\n",
    "        fit_running_times.append(f'{round(end_time-start_time,2)}s')\n",
    "\n",
    "train(x_train=x_train, y_train=y_train)\n",
    "\n",
    "\n",
    "fit_running_times"
   ]
  },
  {
   "cell_type": "markdown",
   "metadata": {},
   "source": [
    "## Test"
   ]
  },
  {
   "cell_type": "code",
   "execution_count": null,
   "metadata": {},
   "outputs": [],
   "source": [
    "\n",
    "def test(x_test, y_test):\n",
    "\n",
    "    score = []\n",
    "    names = []\n",
    "\n",
    "    # Arrays to keep evaluations form the metrics we use.\n",
    "    precision_score = []\n",
    "    recall_score = []\n",
    "    f1_score = []\n",
    "    accuracy_score = []\n",
    "\n",
    "    # Prediction loop\n",
    "\n",
    "    i = 0\n",
    "    for classifier in classifiers:\n",
    "        \n",
    "        i = i + 1\n",
    "        \n",
    "        precision_score.append(metrics.precision_score(y_test, classifier.predict(x_test)))\n",
    "        recall_score.append(metrics.recall_score(y_test, classifier.predict(x_test)))\n",
    "        f1_score.append( metrics.f1_score(y_test, classifier.predict(x_test)))\n",
    "        accuracy_score.append(metrics.accuracy_score(y_test, classifier.predict(x_test)))\n",
    "        names.append(f'{labels[i-1]}')\n",
    "        # oversampling.append(f'{over}')\n",
    "\n",
    "    results_dataFrame = {\n",
    "        'precision_score': precision_score, \n",
    "        'recall_score': recall_score, \n",
    "        'f1_score': f1_score,\n",
    "        'accuracy_score' : accuracy_score,\n",
    "        # 'oversampling': oversampling,\n",
    "        'time ': fit_running_times\n",
    "    }\n",
    "\n",
    "    results_dataFrame = pd.DataFrame(data=results_dataFrame)\n",
    "    results_dataFrame.insert(loc=0, column='Method', value=names)\n",
    "\n",
    "    return results_dataFrame\n",
    "\n",
    "pred_results = test(x_test=x_test, y_test=y_test)\n",
    "pred_results"
   ]
  }
 ],
 "metadata": {
  "interpreter": {
   "hash": "7974200597a2eea173dc98b5270fe22ca3653295df19c64fd142536134024e20"
  },
  "kernelspec": {
   "display_name": "Python 3.9.6 64-bit",
   "language": "python",
   "name": "python3"
  },
  "language_info": {
   "codemirror_mode": {
    "name": "ipython",
    "version": 3
   },
   "file_extension": ".py",
   "mimetype": "text/x-python",
   "name": "python",
   "nbconvert_exporter": "python",
   "pygments_lexer": "ipython3",
   "version": "3.9.6"
  },
  "orig_nbformat": 4
 },
 "nbformat": 4,
 "nbformat_minor": 2
}
