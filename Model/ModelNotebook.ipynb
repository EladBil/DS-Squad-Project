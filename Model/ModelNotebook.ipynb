{
 "cells": [
  {
   "cell_type": "code",
   "execution_count": null,
   "metadata": {},
   "outputs": [],
   "source": [
    "import pandas as pd\n",
    "import sklearn"
   ]
  },
  {
   "cell_type": "code",
   "execution_count": null,
   "metadata": {},
   "outputs": [],
   "source": [
    "# This code souldn't be in the Model API  as it here just to mimic usage.\n",
    "data = pd.read_csv('../data/dataset.csv')\n",
    "data.head()"
   ]
  },
  {
   "cell_type": "code",
   "execution_count": null,
   "metadata": {},
   "outputs": [],
   "source": [
    "data.shape"
   ]
  },
  {
   "cell_type": "code",
   "execution_count": null,
   "metadata": {},
   "outputs": [],
   "source": [
    "true_values = data.hospital_death\n",
    "train_data = data.drop('hospital_death', axis=1)"
   ]
  },
  {
   "cell_type": "markdown",
   "metadata": {},
   "source": [
    "<h5>Split for Train and Test</h5>"
   ]
  },
  {
   "cell_type": "code",
   "execution_count": null,
   "metadata": {},
   "outputs": [],
   "source": [
    "from sklearn.model_selection import train_test_split\n",
    "x_train, x_test, y_train, y_test = train_test_split(train_data, true_values, test_size=0.2, stratify=true_values)"
   ]
  },
  {
   "cell_type": "code",
   "execution_count": null,
   "metadata": {},
   "outputs": [],
   "source": [
    "from sklearn.linear_model import LogisticRegression\n",
    "from sklearn.ensemble import RandomForestClassifier, GradientBoostingClassifier, ExtraTreesClassifier, VotingClassifier\n",
    "from sklearn.svm import SVC\n",
    "from sklearn.tree import DecisionTreeClassifier\n",
    "from sklearn.neighbors import KNeighborsClassifier\n",
    "\n",
    "# Preparing a list of models:\n",
    "\n",
    "logisticRegressionIterNum = 100\n",
    "\n",
    "# Preparing a list of estimators for Voting Classifier \n",
    "estimators = [\n",
    "    ('lr',LogisticRegression()),\n",
    "    ('dtc',DecisionTreeClassifier()),    \n",
    "    ('rfc',RandomForestClassifier()),\n",
    "    ('knc',KNeighborsClassifier())\n",
    "]\n",
    "\n",
    "classifiers = [\n",
    "    LogisticRegression(max_iter=100),\n",
    "    RandomForestClassifier(),\n",
    "    ExtraTreesClassifier(),\n",
    "    GradientBoostingClassifier(),\n",
    "    ExtraTreesClassifier(),\n",
    "    VotingClassifier(estimators=estimators)\n",
    "]"
   ]
  },
  {
   "cell_type": "code",
   "execution_count": null,
   "metadata": {},
   "outputs": [],
   "source": [
    "import time\n",
    "\n",
    "fit_running_times = []\n",
    "\n",
    "def train(x_train, y_train):\n",
    "    \n",
    "    score = []\n",
    "    names = []\n",
    "\n",
    "    # Arrays to keep evaluations form the metrics we use.\n",
    "    precision_score = []\n",
    "    recall_score = []\n",
    "    f1_score = []\n",
    "    accuarcy_score = []\n",
    "\n",
    "    # Array to save the running times of the model.\n",
    "\n",
    "    # Fit Loop\n",
    "    i = 0\n",
    "    for classifier in classifiers:\n",
    "        i = i + 1\n",
    "\n",
    "        start_time = time.time()\n",
    "        classifier.fit(x_train, y_train)\n",
    "        end_time = time.time()\n",
    "\n",
    "train(x_train=x_train, y_train=y_train)\n",
    "\n",
    "\n",
    "fit_running_times"
   ]
  },
  {
   "cell_type": "code",
   "execution_count": null,
   "metadata": {},
   "outputs": [],
   "source": []
  }
 ],
 "metadata": {
  "interpreter": {
   "hash": "7974200597a2eea173dc98b5270fe22ca3653295df19c64fd142536134024e20"
  },
  "kernelspec": {
   "display_name": "Python 3.9.6 64-bit",
   "language": "python",
   "name": "python3"
  },
  "language_info": {
   "codemirror_mode": {
    "name": "ipython",
    "version": 3
   },
   "file_extension": ".py",
   "mimetype": "text/x-python",
   "name": "python",
   "nbconvert_exporter": "python",
   "pygments_lexer": "ipython3",
   "version": "3.9.6"
  },
  "orig_nbformat": 4
 },
 "nbformat": 4,
 "nbformat_minor": 2
}
